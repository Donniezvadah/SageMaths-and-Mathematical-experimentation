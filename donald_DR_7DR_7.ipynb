{
 "cells": [
  {
   "cell_type": "markdown",
   "metadata": {},
   "source": [
    "<img src=\"./images/aims-za-logo.jpeg\" alt=\"drawing\" style=\"width:400px;\"/>\n",
    "<h1 style=\"text-align: center;\"><a title=\"EMS-AIMS-ZA-2024-25\" href=\"https://evansdoe.github.io/aims-za/ems/2024-25\">Experimental Mathematics Using SageMath — AIMS-ZA-2024-25</a></h1>\n",
    "\n",
    "\n",
    "## Instructors: \n",
    "\n",
    "\n",
    "* <a href=\"http://evansdoe.github.io\">**Evans Ocansey**</a>"
   ]
  },
  {
   "cell_type": "markdown",
   "metadata": {},
   "source": [
    "## Day 06 — New Experiments: Sum of Squares and Plotting <a class=\"anchor\" id=\"new-experiment-sum-of-squares-and-plotting\"></a>\n",
    "\n",
    "[comment]: <> (<h2 style=\"text-align: left;\">Day 02 — Introduction to <a title=\"SageMath\"href=\"http://www.sagemath.org/\"><em>SageMath</em></a>: A Mathematics Software for All</h2>)\n",
    "\n",
    "\n",
    "\n",
    "\n",
    "The outline of the this notebook is as follows:"
   ]
  },
  {
   "cell_type": "markdown",
   "metadata": {},
   "source": [
    "## Table of Contents: <a class=\"anchor\" id=\"day-05-toc\"></a> \n",
    "* [ ] [<font color=blue>Reviewing the Frobenius Problem</font>](#reviewing-the-frobenius-problem)\n",
    "  * [<font color=blue>Last Thoughts on the Conductor</font>](#last-thoughts-on-the-conductor)\n",
    "* [ ] [<font color=blue>New Experiment — Sum of Squares </font>](#new-experiment-sum-of-squares)\n",
    "  * [<font color=blue>Exploratory Questions — Sum of Squares </font>](#exploratory-questions-sum-of-squares)\n",
    "* [ ] [<font color=blue>More Plotting and Graphics in Two Dimensions</font>](#more-plotting-and-graphics-in-two-dimensions)"
   ]
  },
  {
   "cell_type": "markdown",
   "metadata": {},
   "source": [
    "## Reviewing the Frobenius Problem <a class = \"anchor\" id=\"reviewing-the-frobenius-problem\"></a>\n",
    "Our motivational problem is the following: \n",
    " - Given positive integers $a$ and $b$, what numbers $m$ can be written in the form $a\\,x+b\\,y$, where $x,\\,y \\in \\mathbb{Z}_{\\ge0}$? \n",
    "\n",
    "Given positive integers $a$ and $b$ if there is a positive integer $c$, with $c = a\\,x + b\\,y$ such that for all positive integers $n \\ge c$, there are non-negative integers $x$ and $y$ with $n = a\\,x + b\\,y$, then $c$ is called the *conductor* of $a$ and $b$. In other words, $c_{\\{a,b\\}}$ is the smallest positive integer that can be written as $a\\,x + b\\,y$ such that  all positive integers greater than or equal to $c_{\\{a,b\\}}$ are also writable. We will denote the conductor of $a$ and $b$ by $c_{\\{a,b\\}}$.  \n",
    "On the other hand, the largest positive integer $f$ that can not be written as $f = a\\,x + b\\,y$ is called the  *Frobenius number* of $a$ and $b$. We will denote this by $f_{\\{a,b\\}}$.\n",
    "\n",
    "It has already led to several related questions. Hopefully you were able to explore the following questions and made interesting _conjectures_.\n",
    "\n",
    " - Given two positive integers $a$  and $b$, how many numbers can not be written as $a\\,x + b\\,y$ with $x,\\,y\\in\\mathbb{Z}_{\\ge0}$?\n",
    " - If $a$ is even and $b$ is odd, what is the Frobenius number? \n",
    " - If $a$ is even and $b$ is even, what is the Frobenius number? \n",
    " - If $a$ is odd and $b$ is odd, what is the Frobenius number? \n",
    " - If $a$ and $b$ are prime numbers, what is the Frobenius number? \n",
    " - Given two positive integers $a$ and $b$, can we find a formula or some other means of computing the Frobenius number?\n",
    " - If $a,\\, b \\in \\mathbb{Z}_{>0}$ and $\\gcd(a, b) \\neq 1$, does the Frobenius number exist?\n",
    "\n",
    "Here are some questions that we possed together in class: \n",
    "- Given that either $a = 1$ or $b = 1$, but not both, is it possible to define a Frobenius number, $f_{\\{a,b\\}}$ and a conductor, $c_{\\{a,b\\}}$? If so what is it?\n",
    "- If $a$ and $b$ have a common factor greater than $1$, does there exist a Frobenius number, $f_{\\{a,b\\}}$ and a conductor, $c_{\\{a,b\\}}$?\n",
    "- If $a$ is even and $b$ is odd what is the Frobenius number and conductor?\n",
    "- If $f_{\\{a,b\\}}=\\infty$ for $a,\\,b \\in \\mathbb{Z}_{>0}$, is it always true that the conductor, $c_{\\{a,b\\}}$ is also infinity. How about the vice-versa of this statement?\n",
    "- Is there a case such that given $a,\\,b \\in \\mathbb{Z}_{>0}$ there exists a Frobenius number, $f_{\\{a,b\\}}$ but not a conductor, $c_{\\{a,b\\}}$?\n",
    "- What is the existence condition for a Frobenius number, $f_{\\{a,b\\}}$ and a conductor, $c_{\\{a,b\\}}$ given $a, b\\in\\mathbb{Z}_{>0}$?\n",
    "- If $a,b\\in\\mathbb{Z}_{>0}$ and there exist a Fronbenius number, $f_{\\{a,b\\}}$ and a conductor, $c_{\\{a,b\\}}$, is there a relationship between:\n",
    "  - $f_{\\{a,\\,b\\}}$ and $c_{\\{a,\\,b\\}}$?\n",
    "  - $f_{\\{a,\\,b\\}}$, $a$, and $b$?\n",
    "  - $c_{\\{a,\\,b\\}}$, $a$, and $b$?"
   ]
  },
  {
   "cell_type": "code",
   "execution_count": null,
   "metadata": {},
   "outputs": [],
   "source": []
  },
  {
   "cell_type": "markdown",
   "metadata": {},
   "source": [
    "### Last Thoughts on the Conductor <a class = \"anchor\" id=\"last-thoughts-on-the-conductor\"></a>\n",
    "\n",
    "Are there more questions we can explore about the Frobenius problem?\n",
    "\n",
    "- What if instead of two positive integers $a$ and $b$, we have more than $3$ positive integers $a, b, c$?  \n",
    "\n",
    "**Question**: Is there such a thing as a *conductor* or a *Frobenius number* for a set of _three_ integers?\n",
    "That is, is there a conductor for numbers of the form $n=5x+8y+7z$, for the set $\\{5,8,7\\}$?\n",
    "\n",
    "   * Well, what about for $\\{3,4,7\\}$?\n",
    "   * Okay, what about $\\{3,4,6\\}$?\n",
    "   * Ah, but what about $\\{3,4,5\\}$?\n",
    "\n",
    "**Question**: We observed from our experiments with two positive integers $a$ and $b$ that the existence criterion for the Frobenius number $f_{\\{a,b\\}}$ is that $a$ and $b$ must be coprime, i.e., $\\gcd(a, b)=1$. Would this criterion also hold for the case of three positive integers: $a$, $b$, and $c$?\n",
    "\n",
    "\n",
    "Do you think there a formula for the Frobenius number $f_{\\{a,b\\}}$, and the conductor $c_{\\{a,b\\}}$?  What about for bigger sets of integers, for example, for three positive integers $a$, $b$, and $c$?\n",
    "\n",
    "   * For sets of two, it turns out there is a _complete answer_ which some of you have either discovered it already or busy discovering.\n",
    "   * For sets of three numbers, like $n=5\\,x+8\\,y+7\\,z$, there is an efficient algorithm, but no exact formula.\n",
    "\n",
    "Notice the connection between theory and practice!  Solving this problem could easily solve a \"real-life\" business problem, so a good algorithm would be very important. But finding such an algorithm requires exploration and experimentation like we have been doing.  \n",
    "\n",
    "This [video](https://www.youtube.com/watch?v=vNTSugyS038) gives us a practical application of the Frobenius problem in real life."
   ]
  },
  {
   "cell_type": "markdown",
   "metadata": {},
   "source": [
    "Click [**here**](#day-05-toc) if you want to go back to the table of content of this notebook. Otherwise, continue to the next [**Section**](#new-experiment-sum-of-squares)."
   ]
  },
  {
   "cell_type": "markdown",
   "metadata": {},
   "source": [
    "## New Experiment — Sum of Squares <a class=\"anchor\" id=\"new-experiment-sum-of-squares\"></a>\n",
    "\n",
    "With that in mind, let's begin our next exploration. Hopefully you have had some fun experimenting with the condunctor problem. Today we will introduce a new problem to keep up the fun spirit of experimental mathematics. Namely, what numbers can be written in the form $n=a^2+b^2$?\n",
    "\n",
    "Here are a cases that do and do not work.\n",
    "\n",
    "   * $2 = 1^2+1^2$ works;\n",
    "   * $3$ does not work, since we only allow integers.  $1+1$ is too small, $1^2+2^2=5$ is too big;\n",
    "   * $4$ actually <em>does</em> work, because we allow $4 = 0^2+2^2$.  (That's just one of our rules; you could play a different game if you wanted.);\n",
    "   * That means $1=1^2+0^2$ works.\n",
    "   * $5$ works.\n",
    "And so forth. "
   ]
  },
  {
   "cell_type": "markdown",
   "metadata": {},
   "source": [
    "## Exploratory Questions — Sum of Squares <a class=\"anchor\" id=\"exploratory-questions-sum-of-squares\"></a>\n",
    "Can you think of questions that you can explore experimentally? Last Friday, we formulated the following questions. I also added extra questions.\n",
    "\n",
    "1. Which positive integers can be written as a sum of two squares?\n",
    "2. Which ones cannot be written?\n",
    "3. Are numbers that can be represented as a sum of two squares always odd or always even? Or do they vary?\n",
    "4. What are the sum of squares that are even or odd integers?\n",
    "5. Is the sum of squares of two numbers generally even or odd? What factors influence this?\n",
    "6. What are the sum of squares that are perfect squares? What is the probability that the sum of squares is a perfect square? When is this condition true?\n",
    "7. If $a$ is a factor of $b$, under what conditions is the sum of their squares a perfect square?\n",
    "8. Can either $a$ or $b$ be a factor of the sum of their squares?\n",
    "9. For which values of $a$ and $b$ is the sum of their squares a prime number?\n",
    "10. Can there be two or more distinct pairs of $a$ and $b$ that yield the same sum of squares? If so, what are these pairs?\n",
    "11. Is the sum of the squares of two consecutive integers always odd? If not, when does it differ?\n",
    "12. If $a$ and $b$ are both odd, is the sum of their squares odd or even?\n",
    "13. If $a$ is odd and $b$ is even, what is the sum of their squares?\n",
    "14. If $a$ is the only even prime (i.e., $2$) and $b$ is an odd prime, is the sum of their squares a prime number?\n",
    "15. Which numbers can be written as a sum of squares of two prime numbers?\n",
    "16. Which positive integers can be expressed as the sum of squares of their factors? Are there identifiable patterns?\n",
    "17. Given $a$ and $b$ are both prime, under what conditions is $a^2 + b^2$ also prime?\n",
    "18. Are there forms other than $x^2 + 0^2$ for representing a square root as a sum of squares?\n",
    "\n",
    "Each question could reveal patterns or conjectures. Let's proceed systematically as follows:\n",
    "\n",
    "   - **Identify** when the statement holds true or false.\n",
    "   - **Analyze patterns** in the results generated.\n",
    "   - **Make conjectures** about underlying rules or relationships based on observed patterns."
   ]
  },
  {
   "cell_type": "code",
   "execution_count": null,
   "metadata": {},
   "outputs": [],
   "source": []
  },
  {
   "cell_type": "markdown",
   "metadata": {},
   "source": [
    "- Let us start by working with pens and paper.\n",
    "- I will create a table on the board for us to fill it out.\n",
    "- We will divide ourselves into groups and try the case for $n$ running from $1$ to $100$ to fillout the table.\n",
    "- We will study the table to see if we can observe some patterns in the data and make some interesting conjectures.\n",
    "- When we are done, we will go to the computer lab and see how we can translate the table we have created using an appropriate Python datatype.\n",
    "- Once we have the tabular data correctly encoded, we will further explore our questions in groups using SageMath."
   ]
  },
  {
   "cell_type": "code",
   "execution_count": null,
   "metadata": {},
   "outputs": [],
   "source": []
  },
  {
   "cell_type": "markdown",
   "metadata": {},
   "source": [
    "Hopefully you have tried some examples. Now let us have ourselves in groups and explore our questions using _SageMath_. As you explore, try to write your observation. Later on I will call on the spokesperson of a group to report their findings."
   ]
  },
  {
   "cell_type": "code",
   "execution_count": 1,
   "metadata": {
    "scrolled": true
   },
   "outputs": [],
   "source": [
    "# sorted([a^2 + b^2 for a in [0..10] for b in [0..10]])"
   ]
  },
  {
   "cell_type": "code",
   "execution_count": 2,
   "metadata": {},
   "outputs": [],
   "source": [
    "def sum_of_squares_data(a_bound=6, b_bound=6):\n",
    "    sum_of_squares_database = {}\n",
    "    for a in [0..a_bound]:\n",
    "        for b in [0..b_bound]:\n",
    "            n = a^2 + b^2\n",
    "            if n not in sum_of_squares_database:\n",
    "                sum_of_squares_database[n] = [(a, b)]\n",
    "            else:\n",
    "                sum_of_squares_database[n].append((a,b))\n",
    "    return sum_of_squares_database"
   ]
  },
  {
   "cell_type": "code",
   "execution_count": 3,
   "metadata": {
    "scrolled": true
   },
   "outputs": [
    {
     "data": {
      "text/plain": [
       "{0: [(0, 0)],\n",
       " 1: [(0, 1), (1, 0)],\n",
       " 4: [(0, 2), (2, 0)],\n",
       " 9: [(0, 3), (3, 0)],\n",
       " 16: [(0, 4), (4, 0)],\n",
       " 25: [(0, 5), (3, 4), (4, 3), (5, 0)],\n",
       " 36: [(0, 6), (6, 0)],\n",
       " 49: [(0, 7), (7, 0)],\n",
       " 64: [(0, 8), (8, 0)],\n",
       " 81: [(0, 9), (9, 0)],\n",
       " 100: [(0, 10), (6, 8), (8, 6), (10, 0)],\n",
       " 121: [(0, 11), (11, 0)],\n",
       " 144: [(0, 12), (12, 0)],\n",
       " 169: [(0, 13), (5, 12), (12, 5), (13, 0)],\n",
       " 196: [(0, 14), (14, 0)],\n",
       " 225: [(0, 15), (9, 12), (12, 9), (15, 0)],\n",
       " 256: [(0, 16), (16, 0)],\n",
       " 289: [(0, 17), (8, 15), (15, 8), (17, 0)],\n",
       " 324: [(0, 18), (18, 0)],\n",
       " 361: [(0, 19), (19, 0)],\n",
       " 400: [(0, 20), (12, 16), (16, 12), (20, 0)],\n",
       " 2: [(1, 1)],\n",
       " 5: [(1, 2), (2, 1)],\n",
       " 10: [(1, 3), (3, 1)],\n",
       " 17: [(1, 4), (4, 1)],\n",
       " 26: [(1, 5), (5, 1)],\n",
       " 37: [(1, 6), (6, 1)],\n",
       " 50: [(1, 7), (5, 5), (7, 1)],\n",
       " 65: [(1, 8), (4, 7), (7, 4), (8, 1)],\n",
       " 82: [(1, 9), (9, 1)],\n",
       " 101: [(1, 10), (10, 1)],\n",
       " 122: [(1, 11), (11, 1)],\n",
       " 145: [(1, 12), (8, 9), (9, 8), (12, 1)],\n",
       " 170: [(1, 13), (7, 11), (11, 7), (13, 1)],\n",
       " 197: [(1, 14), (14, 1)],\n",
       " 226: [(1, 15), (15, 1)],\n",
       " 257: [(1, 16), (16, 1)],\n",
       " 290: [(1, 17), (11, 13), (13, 11), (17, 1)],\n",
       " 325: [(1, 18), (6, 17), (10, 15), (15, 10), (17, 6), (18, 1)],\n",
       " 362: [(1, 19), (19, 1)],\n",
       " 401: [(1, 20), (20, 1)],\n",
       " 8: [(2, 2)],\n",
       " 13: [(2, 3), (3, 2)],\n",
       " 20: [(2, 4), (4, 2)],\n",
       " 29: [(2, 5), (5, 2)],\n",
       " 40: [(2, 6), (6, 2)],\n",
       " 53: [(2, 7), (7, 2)],\n",
       " 68: [(2, 8), (8, 2)],\n",
       " 85: [(2, 9), (6, 7), (7, 6), (9, 2)],\n",
       " 104: [(2, 10), (10, 2)],\n",
       " 125: [(2, 11), (5, 10), (10, 5), (11, 2)],\n",
       " 148: [(2, 12), (12, 2)],\n",
       " 173: [(2, 13), (13, 2)],\n",
       " 200: [(2, 14), (10, 10), (14, 2)],\n",
       " 229: [(2, 15), (15, 2)],\n",
       " 260: [(2, 16), (8, 14), (14, 8), (16, 2)],\n",
       " 293: [(2, 17), (17, 2)],\n",
       " 328: [(2, 18), (18, 2)],\n",
       " 365: [(2, 19), (13, 14), (14, 13), (19, 2)],\n",
       " 404: [(2, 20), (20, 2)],\n",
       " 18: [(3, 3)],\n",
       " 34: [(3, 5), (5, 3)],\n",
       " 45: [(3, 6), (6, 3)],\n",
       " 58: [(3, 7), (7, 3)],\n",
       " 73: [(3, 8), (8, 3)],\n",
       " 90: [(3, 9), (9, 3)],\n",
       " 109: [(3, 10), (10, 3)],\n",
       " 130: [(3, 11), (7, 9), (9, 7), (11, 3)],\n",
       " 153: [(3, 12), (12, 3)],\n",
       " 178: [(3, 13), (13, 3)],\n",
       " 205: [(3, 14), (6, 13), (13, 6), (14, 3)],\n",
       " 234: [(3, 15), (15, 3)],\n",
       " 265: [(3, 16), (11, 12), (12, 11), (16, 3)],\n",
       " 298: [(3, 17), (17, 3)],\n",
       " 333: [(3, 18), (18, 3)],\n",
       " 370: [(3, 19), (9, 17), (17, 9), (19, 3)],\n",
       " 409: [(3, 20), (20, 3)],\n",
       " 32: [(4, 4)],\n",
       " 41: [(4, 5), (5, 4)],\n",
       " 52: [(4, 6), (6, 4)],\n",
       " 80: [(4, 8), (8, 4)],\n",
       " 97: [(4, 9), (9, 4)],\n",
       " 116: [(4, 10), (10, 4)],\n",
       " 137: [(4, 11), (11, 4)],\n",
       " 160: [(4, 12), (12, 4)],\n",
       " 185: [(4, 13), (8, 11), (11, 8), (13, 4)],\n",
       " 212: [(4, 14), (14, 4)],\n",
       " 241: [(4, 15), (15, 4)],\n",
       " 272: [(4, 16), (16, 4)],\n",
       " 305: [(4, 17), (7, 16), (16, 7), (17, 4)],\n",
       " 340: [(4, 18), (12, 14), (14, 12), (18, 4)],\n",
       " 377: [(4, 19), (11, 16), (16, 11), (19, 4)],\n",
       " 416: [(4, 20), (20, 4)],\n",
       " 61: [(5, 6), (6, 5)],\n",
       " 74: [(5, 7), (7, 5)],\n",
       " 89: [(5, 8), (8, 5)],\n",
       " 106: [(5, 9), (9, 5)],\n",
       " 146: [(5, 11), (11, 5)],\n",
       " 194: [(5, 13), (13, 5)],\n",
       " 221: [(5, 14), (10, 11), (11, 10), (14, 5)],\n",
       " 250: [(5, 15), (9, 13), (13, 9), (15, 5)],\n",
       " 281: [(5, 16), (16, 5)],\n",
       " 314: [(5, 17), (17, 5)],\n",
       " 349: [(5, 18), (18, 5)],\n",
       " 386: [(5, 19), (19, 5)],\n",
       " 425: [(5, 20), (8, 19), (13, 16), (16, 13), (19, 8), (20, 5)],\n",
       " 72: [(6, 6)],\n",
       " 117: [(6, 9), (9, 6)],\n",
       " 136: [(6, 10), (10, 6)],\n",
       " 157: [(6, 11), (11, 6)],\n",
       " 180: [(6, 12), (12, 6)],\n",
       " 232: [(6, 14), (14, 6)],\n",
       " 261: [(6, 15), (15, 6)],\n",
       " 292: [(6, 16), (16, 6)],\n",
       " 360: [(6, 18), (18, 6)],\n",
       " 397: [(6, 19), (19, 6)],\n",
       " 436: [(6, 20), (20, 6)],\n",
       " 98: [(7, 7)],\n",
       " 113: [(7, 8), (8, 7)],\n",
       " 149: [(7, 10), (10, 7)],\n",
       " 193: [(7, 12), (12, 7)],\n",
       " 218: [(7, 13), (13, 7)],\n",
       " 245: [(7, 14), (14, 7)],\n",
       " 274: [(7, 15), (15, 7)],\n",
       " 338: [(7, 17), (13, 13), (17, 7)],\n",
       " 373: [(7, 18), (18, 7)],\n",
       " 410: [(7, 19), (11, 17), (17, 11), (19, 7)],\n",
       " 449: [(7, 20), (20, 7)],\n",
       " 128: [(8, 8)],\n",
       " 164: [(8, 10), (10, 8)],\n",
       " 208: [(8, 12), (12, 8)],\n",
       " 233: [(8, 13), (13, 8)],\n",
       " 320: [(8, 16), (16, 8)],\n",
       " 353: [(8, 17), (17, 8)],\n",
       " 388: [(8, 18), (18, 8)],\n",
       " 464: [(8, 20), (20, 8)],\n",
       " 162: [(9, 9)],\n",
       " 181: [(9, 10), (10, 9)],\n",
       " 202: [(9, 11), (11, 9)],\n",
       " 277: [(9, 14), (14, 9)],\n",
       " 306: [(9, 15), (15, 9)],\n",
       " 337: [(9, 16), (16, 9)],\n",
       " 405: [(9, 18), (18, 9)],\n",
       " 442: [(9, 19), (19, 9)],\n",
       " 481: [(9, 20), (15, 16), (16, 15), (20, 9)],\n",
       " 244: [(10, 12), (12, 10)],\n",
       " 269: [(10, 13), (13, 10)],\n",
       " 296: [(10, 14), (14, 10)],\n",
       " 356: [(10, 16), (16, 10)],\n",
       " 389: [(10, 17), (17, 10)],\n",
       " 424: [(10, 18), (18, 10)],\n",
       " 461: [(10, 19), (19, 10)],\n",
       " 500: [(10, 20), (20, 10)],\n",
       " 242: [(11, 11)],\n",
       " 317: [(11, 14), (14, 11)],\n",
       " 346: [(11, 15), (15, 11)],\n",
       " 445: [(11, 18), (18, 11)],\n",
       " 482: [(11, 19), (19, 11)],\n",
       " 521: [(11, 20), (20, 11)],\n",
       " 288: [(12, 12)],\n",
       " 313: [(12, 13), (13, 12)],\n",
       " 369: [(12, 15), (15, 12)],\n",
       " 433: [(12, 17), (17, 12)],\n",
       " 468: [(12, 18), (18, 12)],\n",
       " 505: [(12, 19), (19, 12)],\n",
       " 544: [(12, 20), (20, 12)],\n",
       " 394: [(13, 15), (15, 13)],\n",
       " 458: [(13, 17), (17, 13)],\n",
       " 493: [(13, 18), (18, 13)],\n",
       " 530: [(13, 19), (19, 13)],\n",
       " 569: [(13, 20), (20, 13)],\n",
       " 392: [(14, 14)],\n",
       " 421: [(14, 15), (15, 14)],\n",
       " 452: [(14, 16), (16, 14)],\n",
       " 485: [(14, 17), (17, 14)],\n",
       " 520: [(14, 18), (18, 14)],\n",
       " 557: [(14, 19), (19, 14)],\n",
       " 596: [(14, 20), (20, 14)],\n",
       " 450: [(15, 15)],\n",
       " 514: [(15, 17), (17, 15)],\n",
       " 549: [(15, 18), (18, 15)],\n",
       " 586: [(15, 19), (19, 15)],\n",
       " 625: [(15, 20), (20, 15)],\n",
       " 512: [(16, 16)],\n",
       " 545: [(16, 17), (17, 16)],\n",
       " 580: [(16, 18), (18, 16)],\n",
       " 617: [(16, 19), (19, 16)],\n",
       " 656: [(16, 20), (20, 16)],\n",
       " 578: [(17, 17)],\n",
       " 613: [(17, 18), (18, 17)],\n",
       " 650: [(17, 19), (19, 17)],\n",
       " 689: [(17, 20), (20, 17)],\n",
       " 648: [(18, 18)],\n",
       " 685: [(18, 19), (19, 18)],\n",
       " 724: [(18, 20), (20, 18)],\n",
       " 722: [(19, 19)],\n",
       " 761: [(19, 20), (20, 19)],\n",
       " 800: [(20, 20)]}"
      ]
     },
     "execution_count": 3,
     "metadata": {},
     "output_type": "execute_result"
    }
   ],
   "source": [
    "a_bound=20\n",
    "b_bound=20\n",
    "\n",
    "sum_of_squares_database = sum_of_squares_data(a_bound=a_bound, b_bound=b_bound)\n",
    "sum_of_squares_database"
   ]
  },
  {
   "cell_type": "markdown",
   "metadata": {},
   "source": [
    "Conjectures made by students in today's class after working with pens and papers to generate data.\n",
    "\n",
    "- If $n$ is odd, then the pair $(a,b)$ has one to be even and the other odd.\n",
    "- If $a$ and $b$ are both even, then $n$ is even and if $a$ and $b$ are both odd, then $n$ is even.\n",
    "- If $n=a^2+b^2$ for $a,b\\in\\mathbb{N}$ then $a,b\\leq\\sqrt{n}$.\n",
    "- If $n=a^2+b^2$ for $a,b\\in\\mathbb{N}$, then the maximum number of pairs $(a,b)$ for fixed $n$ is equal to 4.\n",
    "- If $n$ has 4 pairs of solution, then $n$ is a multiple of $5$.\n",
    "- If $n$ is prime and $>2$, the number of $(a,b)$ is always 2.\n",
    "- If $a=b$, $n=2a^2$ or $n=2b^2$. If a or b is equal to zero, then $n=a^2$ or $b^2$.\n",
    "- If $n$ is a perfect square, the number of $(a,b)$ is 2.\n",
    "- If $n$ is an odd prime and can be written as 1 mod 4, then it can be written as $a^2+b^2$."
   ]
  },
  {
   "cell_type": "code",
   "execution_count": null,
   "metadata": {},
   "outputs": [],
   "source": []
  },
  {
   "cell_type": "markdown",
   "metadata": {},
   "source": [
    "## Conjecture 1 \n",
    "\n",
    "### - If $n$ is odd, then the pair $(a,b)$ has one to be even and the other odd."
   ]
  },
  {
   "cell_type": "markdown",
   "metadata": {},
   "source": [
    "### Experiment 1 <a id=\"experiment-01\"></a>"
   ]
  },
  {
   "cell_type": "code",
   "execution_count": 4,
   "metadata": {
    "scrolled": true
   },
   "outputs": [],
   "source": [
    "exp1 ={key: sum_of_squares_database[key] for key in list(filter(is_odd, sum_of_squares_database))}"
   ]
  },
  {
   "cell_type": "code",
   "execution_count": 5,
   "metadata": {},
   "outputs": [
    {
     "name": "stdout",
     "output_type": "stream",
     "text": [
      "All tuples have one odd and one even number which is: True\n"
     ]
    }
   ],
   "source": [
    "# Define the odd_even lambda function to check if the tuple has one odd and one even number\n",
    "odd_even = lambda tup: (is_odd(tup[0]) and is_even(tup[1])) or (is_even(tup[0]) and is_odd(tup[1]))\n",
    "all_odd_even = all(all(odd_even(tup) for tup in value) for value in exp1.values())\n",
    "\n",
    "print(f\"All tuples have one odd and one even number which is: {all_odd_even}\")\n"
   ]
  },
  {
   "cell_type": "markdown",
   "metadata": {},
   "source": [
    "# Conjecture 2\n",
    "\n",
    "# If $a$ and $b$ are both even, then $n$ is even and if $a$ and $b$ are both odd, then $n$ is even."
   ]
  },
  {
   "cell_type": "markdown",
   "metadata": {},
   "source": [
    "## This is a trivial question the square of all odd numbers is always even\n",
    "* Then given $a$ and $b$ are all odd their sum is even (sum of two odds is even)\n",
    "## The sum of two evens squared is always even\n",
    "* Then given $a$ and $b$ are all even their sum is even (sum of two even is even)"
   ]
  },
  {
   "cell_type": "markdown",
   "metadata": {},
   "source": [
    "# Conjecture 3\n",
    "\n",
    "# If $n=a^2+b^2$ for $a,b\\in\\mathbb{N}$ then $a,b\\leq\\sqrt{n}$."
   ]
  },
  {
   "cell_type": "code",
   "execution_count": 6,
   "metadata": {},
   "outputs": [
    {
     "data": {
      "text/plain": [
       "True"
      ]
     },
     "execution_count": 6,
     "metadata": {},
     "output_type": "execute_result"
    }
   ],
   "source": [
    "# Lambda function to check if both elements of the tuple are less than the square root of the key\n",
    "ab_less_sqrt_n = lambda tup, key: (tup[0] <= sqrt(key)) and (tup[1] <= sqrt(key))\n",
    "\n",
    "# Check all values in sum_of_squares_database\n",
    "all(all(ab_less_sqrt_n(tup, key) for tup in value) for key, value in sum_of_squares_database.items())"
   ]
  },
  {
   "cell_type": "markdown",
   "metadata": {},
   "source": [
    "## This conjecture is True for all the vales of $a,b$"
   ]
  },
  {
   "cell_type": "code",
   "execution_count": null,
   "metadata": {},
   "outputs": [],
   "source": []
  },
  {
   "cell_type": "code",
   "execution_count": null,
   "metadata": {},
   "outputs": [],
   "source": []
  },
  {
   "cell_type": "markdown",
   "metadata": {},
   "source": [
    "# Conjecture 4\n",
    "\n",
    "# If $n=a^2+b^2$ for $a,b\\in\\mathbb{N}$, then the maximum number of pairs $(a,b)$ for fixed $n$ is equal to 4."
   ]
  },
  {
   "cell_type": "code",
   "execution_count": 7,
   "metadata": {},
   "outputs": [],
   "source": [
    "pairs = {n: pairs for n, pairs in sum_of_squares_database.items() if len(pairs)>4}"
   ]
  },
  {
   "cell_type": "code",
   "execution_count": 8,
   "metadata": {},
   "outputs": [
    {
     "data": {
      "text/plain": [
       "{325: [(1, 18), (6, 17), (10, 15), (15, 10), (17, 6), (18, 1)],\n",
       " 425: [(5, 20), (8, 19), (13, 16), (16, 13), (19, 8), (20, 5)]}"
      ]
     },
     "execution_count": 8,
     "metadata": {},
     "output_type": "execute_result"
    }
   ],
   "source": [
    "pairs"
   ]
  },
  {
   "cell_type": "markdown",
   "metadata": {},
   "source": [
    "### This conjecture is not true since we can deprove it by a counter example showing pairs that are actually above 4"
   ]
  },
  {
   "cell_type": "code",
   "execution_count": null,
   "metadata": {},
   "outputs": [],
   "source": []
  },
  {
   "cell_type": "markdown",
   "metadata": {},
   "source": [
    "# Conjecture 5\n",
    "\n",
    "# If $n$ has 4 pairs of solution, then $n$ is a multiple of $5$."
   ]
  },
  {
   "cell_type": "code",
   "execution_count": 9,
   "metadata": {},
   "outputs": [],
   "source": [
    "pairs_four = {n: pairs for n, pairs in sum_of_squares_database.items() if len(pairs)==4}"
   ]
  },
  {
   "cell_type": "code",
   "execution_count": 10,
   "metadata": {},
   "outputs": [
    {
     "data": {
      "text/plain": [
       "{25: [(0, 5), (3, 4), (4, 3), (5, 0)],\n",
       " 100: [(0, 10), (6, 8), (8, 6), (10, 0)],\n",
       " 169: [(0, 13), (5, 12), (12, 5), (13, 0)],\n",
       " 225: [(0, 15), (9, 12), (12, 9), (15, 0)],\n",
       " 289: [(0, 17), (8, 15), (15, 8), (17, 0)],\n",
       " 400: [(0, 20), (12, 16), (16, 12), (20, 0)],\n",
       " 65: [(1, 8), (4, 7), (7, 4), (8, 1)],\n",
       " 145: [(1, 12), (8, 9), (9, 8), (12, 1)],\n",
       " 170: [(1, 13), (7, 11), (11, 7), (13, 1)],\n",
       " 290: [(1, 17), (11, 13), (13, 11), (17, 1)],\n",
       " 85: [(2, 9), (6, 7), (7, 6), (9, 2)],\n",
       " 125: [(2, 11), (5, 10), (10, 5), (11, 2)],\n",
       " 260: [(2, 16), (8, 14), (14, 8), (16, 2)],\n",
       " 365: [(2, 19), (13, 14), (14, 13), (19, 2)],\n",
       " 130: [(3, 11), (7, 9), (9, 7), (11, 3)],\n",
       " 205: [(3, 14), (6, 13), (13, 6), (14, 3)],\n",
       " 265: [(3, 16), (11, 12), (12, 11), (16, 3)],\n",
       " 370: [(3, 19), (9, 17), (17, 9), (19, 3)],\n",
       " 185: [(4, 13), (8, 11), (11, 8), (13, 4)],\n",
       " 305: [(4, 17), (7, 16), (16, 7), (17, 4)],\n",
       " 340: [(4, 18), (12, 14), (14, 12), (18, 4)],\n",
       " 377: [(4, 19), (11, 16), (16, 11), (19, 4)],\n",
       " 221: [(5, 14), (10, 11), (11, 10), (14, 5)],\n",
       " 250: [(5, 15), (9, 13), (13, 9), (15, 5)],\n",
       " 410: [(7, 19), (11, 17), (17, 11), (19, 7)],\n",
       " 481: [(9, 20), (15, 16), (16, 15), (20, 9)]}"
      ]
     },
     "execution_count": 10,
     "metadata": {},
     "output_type": "execute_result"
    }
   ],
   "source": [
    "pairs_four"
   ]
  },
  {
   "cell_type": "code",
   "execution_count": 11,
   "metadata": {},
   "outputs": [
    {
     "data": {
      "text/plain": [
       "False"
      ]
     },
     "execution_count": 11,
     "metadata": {},
     "output_type": "execute_result"
    }
   ],
   "source": [
    "divisible_byfive = lambda divisible_byfive: divisible_byfive %5\n",
    "all(map(divisible_byfive, pairs_four.keys()))"
   ]
  },
  {
   "cell_type": "markdown",
   "metadata": {},
   "source": [
    "## This conjecture is not true as we have some values that are not divisible by 5 ie 221"
   ]
  },
  {
   "cell_type": "code",
   "execution_count": null,
   "metadata": {},
   "outputs": [],
   "source": []
  },
  {
   "cell_type": "markdown",
   "metadata": {},
   "source": [
    "# Conjecture 6\n",
    "\n",
    "## If $n$ is prime and $>2$, the number of $(a,b)$ is always 2."
   ]
  },
  {
   "cell_type": "code",
   "execution_count": 12,
   "metadata": {},
   "outputs": [],
   "source": [
    "primes = {key: sum_of_squares_database[key] for key in list(filter(is_prime , sum_of_squares_database))}"
   ]
  },
  {
   "cell_type": "raw",
   "metadata": {},
   "source": [
    "primes"
   ]
  },
  {
   "cell_type": "code",
   "execution_count": 13,
   "metadata": {},
   "outputs": [],
   "source": [
    "del primes[2]"
   ]
  },
  {
   "cell_type": "code",
   "execution_count": 14,
   "metadata": {},
   "outputs": [
    {
     "data": {
      "text/plain": [
       "True"
      ]
     },
     "execution_count": 14,
     "metadata": {},
     "output_type": "execute_result"
    }
   ],
   "source": [
    "len_pair_ab = lambda len_pair_ab: len(len_pair_ab)==2\n",
    "all(map(len_pair_ab, primes.items()))"
   ]
  },
  {
   "cell_type": "markdown",
   "metadata": {},
   "source": [
    "#### This conjecture is True hence If $n$ is prime and $>2$, the number of $(a,b)$ is always 2."
   ]
  },
  {
   "cell_type": "code",
   "execution_count": null,
   "metadata": {},
   "outputs": [],
   "source": []
  },
  {
   "cell_type": "code",
   "execution_count": null,
   "metadata": {},
   "outputs": [],
   "source": []
  },
  {
   "cell_type": "code",
   "execution_count": null,
   "metadata": {},
   "outputs": [],
   "source": []
  },
  {
   "cell_type": "code",
   "execution_count": 15,
   "metadata": {},
   "outputs": [],
   "source": [
    " n = []\n",
    "length_n = []\n",
    "for i in primes.keys():\n",
    "    n.append(i)\n",
    "    length_n.append(len(primes[i]))\n",
    "    "
   ]
  },
  {
   "cell_type": "code",
   "execution_count": 16,
   "metadata": {
    "scrolled": true
   },
   "outputs": [
    {
     "data": {
      "text/html": [
       "<div class=\"notruncate\">\n",
       "<table  class=\"table_form\">\n",
       "<tbody>\n",
       "<tr class =\"row-a\">\n",
       "<td class=\"ch\"{style_attr}>Odd Prime n</td>\n",
       "<td style=\"text-align:left\">\\(5\\)</td>\n",
       "<td style=\"text-align:left\">\\(17\\)</td>\n",
       "<td style=\"text-align:left\">\\(37\\)</td>\n",
       "<td style=\"text-align:left\">\\(101\\)</td>\n",
       "<td style=\"text-align:left\">\\(197\\)</td>\n",
       "<td style=\"text-align:left\">\\(257\\)</td>\n",
       "<td style=\"text-align:left\">\\(401\\)</td>\n",
       "<td style=\"text-align:left\">\\(13\\)</td>\n",
       "<td style=\"text-align:left\">\\(29\\)</td>\n",
       "<td style=\"text-align:left\">\\(53\\)</td>\n",
       "<td style=\"text-align:left\">\\(173\\)</td>\n",
       "<td style=\"text-align:left\">\\(229\\)</td>\n",
       "<td style=\"text-align:left\">\\(293\\)</td>\n",
       "<td style=\"text-align:left\">\\(73\\)</td>\n",
       "<td style=\"text-align:left\">\\(109\\)</td>\n",
       "<td style=\"text-align:left\">\\(409\\)</td>\n",
       "<td style=\"text-align:left\">\\(41\\)</td>\n",
       "<td style=\"text-align:left\">\\(97\\)</td>\n",
       "<td style=\"text-align:left\">\\(137\\)</td>\n",
       "<td style=\"text-align:left\">\\(241\\)</td>\n",
       "<td style=\"text-align:left\">\\(61\\)</td>\n",
       "<td style=\"text-align:left\">\\(89\\)</td>\n",
       "<td style=\"text-align:left\">\\(281\\)</td>\n",
       "<td style=\"text-align:left\">\\(349\\)</td>\n",
       "<td style=\"text-align:left\">\\(157\\)</td>\n",
       "<td style=\"text-align:left\">\\(397\\)</td>\n",
       "<td style=\"text-align:left\">\\(113\\)</td>\n",
       "<td style=\"text-align:left\">\\(149\\)</td>\n",
       "<td style=\"text-align:left\">\\(193\\)</td>\n",
       "<td style=\"text-align:left\">\\(373\\)</td>\n",
       "<td style=\"text-align:left\">\\(449\\)</td>\n",
       "<td style=\"text-align:left\">\\(233\\)</td>\n",
       "<td style=\"text-align:left\">\\(353\\)</td>\n",
       "<td style=\"text-align:left\">\\(181\\)</td>\n",
       "<td style=\"text-align:left\">\\(277\\)</td>\n",
       "<td style=\"text-align:left\">\\(337\\)</td>\n",
       "<td style=\"text-align:left\">\\(269\\)</td>\n",
       "<td style=\"text-align:left\">\\(389\\)</td>\n",
       "<td style=\"text-align:left\">\\(461\\)</td>\n",
       "<td style=\"text-align:left\">\\(317\\)</td>\n",
       "<td style=\"text-align:left\">\\(521\\)</td>\n",
       "<td style=\"text-align:left\">\\(313\\)</td>\n",
       "<td style=\"text-align:left\">\\(433\\)</td>\n",
       "<td style=\"text-align:left\">\\(569\\)</td>\n",
       "<td style=\"text-align:left\">\\(421\\)</td>\n",
       "<td style=\"text-align:left\">\\(557\\)</td>\n",
       "<td style=\"text-align:left\">\\(617\\)</td>\n",
       "<td style=\"text-align:left\">\\(613\\)</td>\n",
       "<td style=\"text-align:left\">\\(761\\)</td>\n",
       "</tr>\n",
       "<tr class =\"row-b\">\n",
       "<td class=\"ch\"{style_attr}>The Pairs (a,b)</td>\n",
       "<td style=\"text-align:left\">\\(2\\)</td>\n",
       "<td style=\"text-align:left\">\\(2\\)</td>\n",
       "<td style=\"text-align:left\">\\(2\\)</td>\n",
       "<td style=\"text-align:left\">\\(2\\)</td>\n",
       "<td style=\"text-align:left\">\\(2\\)</td>\n",
       "<td style=\"text-align:left\">\\(2\\)</td>\n",
       "<td style=\"text-align:left\">\\(2\\)</td>\n",
       "<td style=\"text-align:left\">\\(2\\)</td>\n",
       "<td style=\"text-align:left\">\\(2\\)</td>\n",
       "<td style=\"text-align:left\">\\(2\\)</td>\n",
       "<td style=\"text-align:left\">\\(2\\)</td>\n",
       "<td style=\"text-align:left\">\\(2\\)</td>\n",
       "<td style=\"text-align:left\">\\(2\\)</td>\n",
       "<td style=\"text-align:left\">\\(2\\)</td>\n",
       "<td style=\"text-align:left\">\\(2\\)</td>\n",
       "<td style=\"text-align:left\">\\(2\\)</td>\n",
       "<td style=\"text-align:left\">\\(2\\)</td>\n",
       "<td style=\"text-align:left\">\\(2\\)</td>\n",
       "<td style=\"text-align:left\">\\(2\\)</td>\n",
       "<td style=\"text-align:left\">\\(2\\)</td>\n",
       "<td style=\"text-align:left\">\\(2\\)</td>\n",
       "<td style=\"text-align:left\">\\(2\\)</td>\n",
       "<td style=\"text-align:left\">\\(2\\)</td>\n",
       "<td style=\"text-align:left\">\\(2\\)</td>\n",
       "<td style=\"text-align:left\">\\(2\\)</td>\n",
       "<td style=\"text-align:left\">\\(2\\)</td>\n",
       "<td style=\"text-align:left\">\\(2\\)</td>\n",
       "<td style=\"text-align:left\">\\(2\\)</td>\n",
       "<td style=\"text-align:left\">\\(2\\)</td>\n",
       "<td style=\"text-align:left\">\\(2\\)</td>\n",
       "<td style=\"text-align:left\">\\(2\\)</td>\n",
       "<td style=\"text-align:left\">\\(2\\)</td>\n",
       "<td style=\"text-align:left\">\\(2\\)</td>\n",
       "<td style=\"text-align:left\">\\(2\\)</td>\n",
       "<td style=\"text-align:left\">\\(2\\)</td>\n",
       "<td style=\"text-align:left\">\\(2\\)</td>\n",
       "<td style=\"text-align:left\">\\(2\\)</td>\n",
       "<td style=\"text-align:left\">\\(2\\)</td>\n",
       "<td style=\"text-align:left\">\\(2\\)</td>\n",
       "<td style=\"text-align:left\">\\(2\\)</td>\n",
       "<td style=\"text-align:left\">\\(2\\)</td>\n",
       "<td style=\"text-align:left\">\\(2\\)</td>\n",
       "<td style=\"text-align:left\">\\(2\\)</td>\n",
       "<td style=\"text-align:left\">\\(2\\)</td>\n",
       "<td style=\"text-align:left\">\\(2\\)</td>\n",
       "<td style=\"text-align:left\">\\(2\\)</td>\n",
       "<td style=\"text-align:left\">\\(2\\)</td>\n",
       "<td style=\"text-align:left\">\\(2\\)</td>\n",
       "<td style=\"text-align:left\">\\(2\\)</td>\n",
       "</tr>\n",
       "</tbody>\n",
       "</table>\n",
       "</div>"
      ],
      "text/plain": [
       "  Odd Prime n     │ 5   17   37   101   197   257   401   13   29   53   173   229   293   73   109   409   41   97   137   241   61   89   281   349   157   397   113   149   193   373   449   233   353   181   277   337   269   389   461   317   521   313   433   569   421   557   617   613   761\n",
       "  The Pairs (a,b) │ 2   2    2    2     2     2     2     2    2    2    2     2     2     2    2     2     2    2    2     2     2    2    2     2     2     2     2     2     2     2     2     2     2     2     2     2     2     2     2     2     2     2     2     2     2     2     2     2     2"
      ]
     },
     "execution_count": 16,
     "metadata": {},
     "output_type": "execute_result"
    }
   ],
   "source": [
    "experiment1 = [n,length_n]\n",
    "header = [\"Odd Prime n\" , \"The Pairs (a,b)\"]\n",
    "\n",
    "table(experiment1, header_column=header)"
   ]
  },
  {
   "cell_type": "code",
   "execution_count": null,
   "metadata": {},
   "outputs": [],
   "source": []
  },
  {
   "cell_type": "markdown",
   "metadata": {},
   "source": [
    "# Conjecture 7\n",
    "\n",
    "## If $a=b$, $n=2a^2$ or $n=2b^2$. If a or b is equal to zero, then $n=a^2$ or $b^2$."
   ]
  },
  {
   "cell_type": "code",
   "execution_count": null,
   "metadata": {},
   "outputs": [],
   "source": []
  },
  {
   "cell_type": "code",
   "execution_count": 17,
   "metadata": {},
   "outputs": [],
   "source": [
    "perfect_n ={key: [tup for tup in value if tup[0] == tup[1]] for key, value in sum_of_squares_database.items()}"
   ]
  },
  {
   "cell_type": "code",
   "execution_count": 18,
   "metadata": {},
   "outputs": [
    {
     "data": {
      "text/plain": [
       "True"
      ]
     },
     "execution_count": 18,
     "metadata": {},
     "output_type": "execute_result"
    }
   ],
   "source": [
    "# Lambda function to check if both elements of the tuple are less than the square root of the key\n",
    "perfect = lambda tup, key: (2*tup[0]^2 == key) and (2*tup[1]^2 == key)\n",
    "\n",
    "# Check all values in sum_of_squares_database\n",
    "all(all(perfect(tup, key) for tup in value) for key, value in perfect_n.items())"
   ]
  },
  {
   "cell_type": "markdown",
   "metadata": {},
   "source": [
    "## This conjecture is true and was trival result"
   ]
  },
  {
   "cell_type": "code",
   "execution_count": null,
   "metadata": {},
   "outputs": [],
   "source": []
  },
  {
   "cell_type": "markdown",
   "metadata": {},
   "source": [
    "# Conjecture 8 \n",
    "\n",
    "## - If $n$ is a perfect square, the number of $(a,b)$ is 2.\n"
   ]
  },
  {
   "cell_type": "code",
   "execution_count": 19,
   "metadata": {},
   "outputs": [
    {
     "data": {
      "text/plain": [
       "{0: [(0, 0)],\n",
       " 1: [(0, 1), (1, 0)],\n",
       " 4: [(0, 2), (2, 0)],\n",
       " 9: [(0, 3), (3, 0)],\n",
       " 16: [(0, 4), (4, 0)],\n",
       " 25: [(0, 5), (3, 4), (4, 3), (5, 0)],\n",
       " 36: [(0, 6), (6, 0)],\n",
       " 49: [(0, 7), (7, 0)],\n",
       " 64: [(0, 8), (8, 0)],\n",
       " 81: [(0, 9), (9, 0)],\n",
       " 100: [(0, 10), (6, 8), (8, 6), (10, 0)],\n",
       " 121: [(0, 11), (11, 0)],\n",
       " 144: [(0, 12), (12, 0)],\n",
       " 169: [(0, 13), (5, 12), (12, 5), (13, 0)],\n",
       " 196: [(0, 14), (14, 0)],\n",
       " 225: [(0, 15), (9, 12), (12, 9), (15, 0)],\n",
       " 256: [(0, 16), (16, 0)],\n",
       " 289: [(0, 17), (8, 15), (15, 8), (17, 0)],\n",
       " 324: [(0, 18), (18, 0)],\n",
       " 361: [(0, 19), (19, 0)],\n",
       " 400: [(0, 20), (12, 16), (16, 12), (20, 0)],\n",
       " 625: [(15, 20), (20, 15)]}"
      ]
     },
     "execution_count": 19,
     "metadata": {},
     "output_type": "execute_result"
    }
   ],
   "source": [
    "perfect_squares ={key: sum_of_squares_database[key] for key in list(sum_of_squares_database) if sqrt(key) == int(key^.5)}; perfect_squares"
   ]
  },
  {
   "cell_type": "code",
   "execution_count": null,
   "metadata": {},
   "outputs": [],
   "source": []
  },
  {
   "cell_type": "code",
   "execution_count": 20,
   "metadata": {},
   "outputs": [],
   "source": [
    "length = []\n",
    "for i in perfect_squares.values():\n",
    "    length.append(len(i)==2)"
   ]
  },
  {
   "cell_type": "code",
   "execution_count": 21,
   "metadata": {},
   "outputs": [
    {
     "data": {
      "text/plain": [
       "False"
      ]
     },
     "execution_count": 21,
     "metadata": {},
     "output_type": "execute_result"
    }
   ],
   "source": [
    "all(length)"
   ]
  },
  {
   "cell_type": "markdown",
   "metadata": {},
   "source": [
    "## This conjecture is not true"
   ]
  },
  {
   "cell_type": "code",
   "execution_count": null,
   "metadata": {},
   "outputs": [],
   "source": []
  },
  {
   "cell_type": "markdown",
   "metadata": {},
   "source": [
    "# Conjecture 9\n",
    "\n",
    "# If $n$ is an odd prime and can be written as 1 mod 4, then it can be written as $a^2+b^2$."
   ]
  },
  {
   "cell_type": "code",
   "execution_count": 22,
   "metadata": {},
   "outputs": [],
   "source": [
    "# %display latex\n"
   ]
  },
  {
   "cell_type": "code",
   "execution_count": 23,
   "metadata": {},
   "outputs": [],
   "source": [
    "def oddprime_mudulo_four(primes):\n",
    "    for i in primes.keys():\n",
    "        if mod(i,4)==1:\n",
    "            print( f'  mod({i}, 4) = 1 ')\n",
    "        else:\n",
    "            print( f'  mod({i}, 4) != 1 ')\n"
   ]
  },
  {
   "cell_type": "code",
   "execution_count": 24,
   "metadata": {
    "scrolled": true
   },
   "outputs": [
    {
     "name": "stdout",
     "output_type": "stream",
     "text": [
      "  mod(5, 4) = 1 \n",
      "  mod(17, 4) = 1 \n",
      "  mod(37, 4) = 1 \n",
      "  mod(101, 4) = 1 \n",
      "  mod(197, 4) = 1 \n",
      "  mod(257, 4) = 1 \n",
      "  mod(401, 4) = 1 \n",
      "  mod(13, 4) = 1 \n",
      "  mod(29, 4) = 1 \n",
      "  mod(53, 4) = 1 \n",
      "  mod(173, 4) = 1 \n",
      "  mod(229, 4) = 1 \n",
      "  mod(293, 4) = 1 \n",
      "  mod(73, 4) = 1 \n",
      "  mod(109, 4) = 1 \n",
      "  mod(409, 4) = 1 \n",
      "  mod(41, 4) = 1 \n",
      "  mod(97, 4) = 1 \n",
      "  mod(137, 4) = 1 \n",
      "  mod(241, 4) = 1 \n",
      "  mod(61, 4) = 1 \n",
      "  mod(89, 4) = 1 \n",
      "  mod(281, 4) = 1 \n",
      "  mod(349, 4) = 1 \n",
      "  mod(157, 4) = 1 \n",
      "  mod(397, 4) = 1 \n",
      "  mod(113, 4) = 1 \n",
      "  mod(149, 4) = 1 \n",
      "  mod(193, 4) = 1 \n",
      "  mod(373, 4) = 1 \n",
      "  mod(449, 4) = 1 \n",
      "  mod(233, 4) = 1 \n",
      "  mod(353, 4) = 1 \n",
      "  mod(181, 4) = 1 \n",
      "  mod(277, 4) = 1 \n",
      "  mod(337, 4) = 1 \n",
      "  mod(269, 4) = 1 \n",
      "  mod(389, 4) = 1 \n",
      "  mod(461, 4) = 1 \n",
      "  mod(317, 4) = 1 \n",
      "  mod(521, 4) = 1 \n",
      "  mod(313, 4) = 1 \n",
      "  mod(433, 4) = 1 \n",
      "  mod(569, 4) = 1 \n",
      "  mod(421, 4) = 1 \n",
      "  mod(557, 4) = 1 \n",
      "  mod(617, 4) = 1 \n",
      "  mod(613, 4) = 1 \n",
      "  mod(761, 4) = 1 \n"
     ]
    }
   ],
   "source": [
    "oddprime_mudulo_four(primes)"
   ]
  },
  {
   "cell_type": "code",
   "execution_count": 25,
   "metadata": {},
   "outputs": [],
   "source": [
    "modulo = []\n",
    "n= []\n",
    "for i in primes.keys():\n",
    "    modulo.append(mod(i,4)==1)\n",
    "    n.append(i)"
   ]
  },
  {
   "cell_type": "code",
   "execution_count": 26,
   "metadata": {},
   "outputs": [
    {
     "data": {
      "text/plain": [
       "True"
      ]
     },
     "execution_count": 26,
     "metadata": {},
     "output_type": "execute_result"
    }
   ],
   "source": [
    "all(modulo)"
   ]
  },
  {
   "cell_type": "code",
   "execution_count": 27,
   "metadata": {},
   "outputs": [],
   "source": [
    "experiment2= [n, modulo]"
   ]
  },
  {
   "cell_type": "code",
   "execution_count": 28,
   "metadata": {},
   "outputs": [
    {
     "data": {
      "text/html": [
       "<div class=\"notruncate\">\n",
       "<table  class=\"table_form\">\n",
       "<tbody>\n",
       "<tr class =\"row-a\">\n",
       "<td class=\"ch\"{style_attr}>Odd Prime n</td>\n",
       "<td style=\"text-align:left\">\\(5\\)</td>\n",
       "<td style=\"text-align:left\">\\(17\\)</td>\n",
       "<td style=\"text-align:left\">\\(37\\)</td>\n",
       "<td style=\"text-align:left\">\\(101\\)</td>\n",
       "<td style=\"text-align:left\">\\(197\\)</td>\n",
       "<td style=\"text-align:left\">\\(257\\)</td>\n",
       "<td style=\"text-align:left\">\\(401\\)</td>\n",
       "<td style=\"text-align:left\">\\(13\\)</td>\n",
       "<td style=\"text-align:left\">\\(29\\)</td>\n",
       "<td style=\"text-align:left\">\\(53\\)</td>\n",
       "<td style=\"text-align:left\">\\(173\\)</td>\n",
       "<td style=\"text-align:left\">\\(229\\)</td>\n",
       "<td style=\"text-align:left\">\\(293\\)</td>\n",
       "<td style=\"text-align:left\">\\(73\\)</td>\n",
       "<td style=\"text-align:left\">\\(109\\)</td>\n",
       "<td style=\"text-align:left\">\\(409\\)</td>\n",
       "<td style=\"text-align:left\">\\(41\\)</td>\n",
       "<td style=\"text-align:left\">\\(97\\)</td>\n",
       "<td style=\"text-align:left\">\\(137\\)</td>\n",
       "<td style=\"text-align:left\">\\(241\\)</td>\n",
       "<td style=\"text-align:left\">\\(61\\)</td>\n",
       "<td style=\"text-align:left\">\\(89\\)</td>\n",
       "<td style=\"text-align:left\">\\(281\\)</td>\n",
       "<td style=\"text-align:left\">\\(349\\)</td>\n",
       "<td style=\"text-align:left\">\\(157\\)</td>\n",
       "<td style=\"text-align:left\">\\(397\\)</td>\n",
       "<td style=\"text-align:left\">\\(113\\)</td>\n",
       "<td style=\"text-align:left\">\\(149\\)</td>\n",
       "<td style=\"text-align:left\">\\(193\\)</td>\n",
       "<td style=\"text-align:left\">\\(373\\)</td>\n",
       "<td style=\"text-align:left\">\\(449\\)</td>\n",
       "<td style=\"text-align:left\">\\(233\\)</td>\n",
       "<td style=\"text-align:left\">\\(353\\)</td>\n",
       "<td style=\"text-align:left\">\\(181\\)</td>\n",
       "<td style=\"text-align:left\">\\(277\\)</td>\n",
       "<td style=\"text-align:left\">\\(337\\)</td>\n",
       "<td style=\"text-align:left\">\\(269\\)</td>\n",
       "<td style=\"text-align:left\">\\(389\\)</td>\n",
       "<td style=\"text-align:left\">\\(461\\)</td>\n",
       "<td style=\"text-align:left\">\\(317\\)</td>\n",
       "<td style=\"text-align:left\">\\(521\\)</td>\n",
       "<td style=\"text-align:left\">\\(313\\)</td>\n",
       "<td style=\"text-align:left\">\\(433\\)</td>\n",
       "<td style=\"text-align:left\">\\(569\\)</td>\n",
       "<td style=\"text-align:left\">\\(421\\)</td>\n",
       "<td style=\"text-align:left\">\\(557\\)</td>\n",
       "<td style=\"text-align:left\">\\(617\\)</td>\n",
       "<td style=\"text-align:left\">\\(613\\)</td>\n",
       "<td style=\"text-align:left\">\\(761\\)</td>\n",
       "</tr>\n",
       "<tr class =\"row-b\">\n",
       "<td class=\"ch\"{style_attr}>Mod(n,4)</td>\n",
       "<td style=\"text-align:left\">\\(\\mathrm{True}\\)</td>\n",
       "<td style=\"text-align:left\">\\(\\mathrm{True}\\)</td>\n",
       "<td style=\"text-align:left\">\\(\\mathrm{True}\\)</td>\n",
       "<td style=\"text-align:left\">\\(\\mathrm{True}\\)</td>\n",
       "<td style=\"text-align:left\">\\(\\mathrm{True}\\)</td>\n",
       "<td style=\"text-align:left\">\\(\\mathrm{True}\\)</td>\n",
       "<td style=\"text-align:left\">\\(\\mathrm{True}\\)</td>\n",
       "<td style=\"text-align:left\">\\(\\mathrm{True}\\)</td>\n",
       "<td style=\"text-align:left\">\\(\\mathrm{True}\\)</td>\n",
       "<td style=\"text-align:left\">\\(\\mathrm{True}\\)</td>\n",
       "<td style=\"text-align:left\">\\(\\mathrm{True}\\)</td>\n",
       "<td style=\"text-align:left\">\\(\\mathrm{True}\\)</td>\n",
       "<td style=\"text-align:left\">\\(\\mathrm{True}\\)</td>\n",
       "<td style=\"text-align:left\">\\(\\mathrm{True}\\)</td>\n",
       "<td style=\"text-align:left\">\\(\\mathrm{True}\\)</td>\n",
       "<td style=\"text-align:left\">\\(\\mathrm{True}\\)</td>\n",
       "<td style=\"text-align:left\">\\(\\mathrm{True}\\)</td>\n",
       "<td style=\"text-align:left\">\\(\\mathrm{True}\\)</td>\n",
       "<td style=\"text-align:left\">\\(\\mathrm{True}\\)</td>\n",
       "<td style=\"text-align:left\">\\(\\mathrm{True}\\)</td>\n",
       "<td style=\"text-align:left\">\\(\\mathrm{True}\\)</td>\n",
       "<td style=\"text-align:left\">\\(\\mathrm{True}\\)</td>\n",
       "<td style=\"text-align:left\">\\(\\mathrm{True}\\)</td>\n",
       "<td style=\"text-align:left\">\\(\\mathrm{True}\\)</td>\n",
       "<td style=\"text-align:left\">\\(\\mathrm{True}\\)</td>\n",
       "<td style=\"text-align:left\">\\(\\mathrm{True}\\)</td>\n",
       "<td style=\"text-align:left\">\\(\\mathrm{True}\\)</td>\n",
       "<td style=\"text-align:left\">\\(\\mathrm{True}\\)</td>\n",
       "<td style=\"text-align:left\">\\(\\mathrm{True}\\)</td>\n",
       "<td style=\"text-align:left\">\\(\\mathrm{True}\\)</td>\n",
       "<td style=\"text-align:left\">\\(\\mathrm{True}\\)</td>\n",
       "<td style=\"text-align:left\">\\(\\mathrm{True}\\)</td>\n",
       "<td style=\"text-align:left\">\\(\\mathrm{True}\\)</td>\n",
       "<td style=\"text-align:left\">\\(\\mathrm{True}\\)</td>\n",
       "<td style=\"text-align:left\">\\(\\mathrm{True}\\)</td>\n",
       "<td style=\"text-align:left\">\\(\\mathrm{True}\\)</td>\n",
       "<td style=\"text-align:left\">\\(\\mathrm{True}\\)</td>\n",
       "<td style=\"text-align:left\">\\(\\mathrm{True}\\)</td>\n",
       "<td style=\"text-align:left\">\\(\\mathrm{True}\\)</td>\n",
       "<td style=\"text-align:left\">\\(\\mathrm{True}\\)</td>\n",
       "<td style=\"text-align:left\">\\(\\mathrm{True}\\)</td>\n",
       "<td style=\"text-align:left\">\\(\\mathrm{True}\\)</td>\n",
       "<td style=\"text-align:left\">\\(\\mathrm{True}\\)</td>\n",
       "<td style=\"text-align:left\">\\(\\mathrm{True}\\)</td>\n",
       "<td style=\"text-align:left\">\\(\\mathrm{True}\\)</td>\n",
       "<td style=\"text-align:left\">\\(\\mathrm{True}\\)</td>\n",
       "<td style=\"text-align:left\">\\(\\mathrm{True}\\)</td>\n",
       "<td style=\"text-align:left\">\\(\\mathrm{True}\\)</td>\n",
       "<td style=\"text-align:left\">\\(\\mathrm{True}\\)</td>\n",
       "</tr>\n",
       "</tbody>\n",
       "</table>\n",
       "</div>"
      ],
      "text/plain": [
       "  Odd Prime n │ 5      17     37     101    197    257    401    13     29     53     173    229    293    73     109    409    41     97     137    241    61     89     281    349    157    397    113    149    193    373    449    233    353    181    277    337    269    389    461    317    521    313    433    569    421    557    617    613    761\n",
       "  Mod(n,4)    │ True   True   True   True   True   True   True   True   True   True   True   True   True   True   True   True   True   True   True   True   True   True   True   True   True   True   True   True   True   True   True   True   True   True   True   True   True   True   True   True   True   True   True   True   True   True   True   True   True"
      ]
     },
     "execution_count": 28,
     "metadata": {},
     "output_type": "execute_result"
    }
   ],
   "source": [
    "header2 = [\"Odd Prime n\" , \"Mod(n,4)\"]\n",
    "\n",
    "table(experiment2, header_column=header2)"
   ]
  },
  {
   "cell_type": "code",
   "execution_count": null,
   "metadata": {},
   "outputs": [],
   "source": []
  },
  {
   "cell_type": "code",
   "execution_count": null,
   "metadata": {},
   "outputs": [],
   "source": []
  }
 ],
 "metadata": {
  "kernelspec": {
   "display_name": "SageMath 10.4",
   "language": "sage",
   "name": "sagemath"
  },
  "language_info": {
   "codemirror_mode": {
    "name": "ipython",
    "version": 3
   },
   "file_extension": ".py",
   "mimetype": "text/x-python",
   "name": "python",
   "nbconvert_exporter": "python",
   "pygments_lexer": "ipython3",
   "version": "3.11.2"
  },
  "varInspector": {
   "cols": {
    "lenName": 16,
    "lenType": 16,
    "lenVar": 40
   },
   "kernels_config": {
    "python": {
     "delete_cmd_postfix": "",
     "delete_cmd_prefix": "del ",
     "library": "var_list.py",
     "varRefreshCmd": "print(var_dic_list())"
    },
    "r": {
     "delete_cmd_postfix": ") ",
     "delete_cmd_prefix": "rm(",
     "library": "var_list.r",
     "varRefreshCmd": "cat(var_dic_list()) "
    }
   },
   "types_to_exclude": [
    "module",
    "function",
    "builtin_function_or_method",
    "instance",
    "_Feature"
   ],
   "window_display": false
  }
 },
 "nbformat": 4,
 "nbformat_minor": 4
}
