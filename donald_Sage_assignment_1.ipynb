{
 "cells": [
  {
   "cell_type": "markdown",
   "id": "420b9be4",
   "metadata": {},
   "source": [
    "####   1.  Plot the $\\sin(x)$ sine-function of x ranging from $0$ to $\\pi$ along with its third derivative on the same set of axes, in a different color. Make the vertical axes range from -3 to +3."
   ]
  },
  {
   "cell_type": "code",
   "execution_count": 1,
   "id": "4fec3753-10d7-4c14-83e4-cfbecba7e4c9",
   "metadata": {},
   "outputs": [
    {
     "data": {
      "image/png": "[encoded data removed]",
      "text/plain": [
       "Graphics object consisting of 2 graphics primitives"
      ]
     },
     "metadata": {},
     "output_type": "display_data"
    }
   ],
   "source": [
    "# Define the function and its third derivative\n",
    "fx = sin(x)\n",
    "deriv_3 = diff(fx, x, 3)\n",
    "\n",
    "# Plot the sine function\n",
    "plot1 = plot(fx, (x, 0, pi), axes_labels=['$x$', '$y$'], legend_label='$f(x)$', show_legend=True)\n",
    "\n",
    "# Plot the third derivative\n",
    "plot2 = plot(deriv_3, (x, 0, pi), linestyle=\"--\", color=\"red\", axes_labels=['$x$', '$y$'], legend_label=\"$f'''(x)$\", show_legend=True)\n",
    "\n",
    "# Combine the plots and set the y-axis limits\n",
    "combined_plot = plot1 + plot2\n",
    "combined_plot.show(ymin=-3, ymax=3, ticks=pi/6, tick_formatter=pi)\n"
   ]
  },
  {
   "cell_type": "code",
   "execution_count": null,
   "id": "371108fe-2e75-4a2e-9803-865644e9f88a",
   "metadata": {},
   "outputs": [],
   "source": []
  },
  {
   "cell_type": "code",
   "execution_count": null,
   "id": "eda1ebf7-cdd4-426f-a4ff-8cba8d32d2d6",
   "metadata": {},
   "outputs": [],
   "source": []
  },
  {
   "cell_type": "markdown",
   "id": "51954e89",
   "metadata": {},
   "source": [
    "####  2.Create a nontrivial $7 \\times 7$ diagonal matrix in Sage using a special command for it, and verify that the diagonal entries are the same as the eigenvalues of the matrix. "
   ]
  },
  {
   "cell_type": "code",
   "execution_count": null,
   "id": "e92d95b4",
   "metadata": {},
   "outputs": [],
   "source": []
  },
  {
   "cell_type": "code",
   "execution_count": 5,
   "id": "932e292e-1ce5-410b-971d-5d95382b9d0f",
   "metadata": {},
   "outputs": [
    {
     "data": {
      "text/html": [
       "<html>\\(\\displaystyle K_{2} e^{\\left(-x\\right)} + K_{1} e^{x} - x\\)</html>"
      ],
      "text/latex": [
       "$\\displaystyle K_{2} e^{\\left(-x\\right)} + K_{1} e^{x} - x$"
      ],
      "text/plain": [
       "_K2*e^(-x) + _K1*e^x - x"
      ]
     },
     "execution_count": 5,
     "metadata": {},
     "output_type": "execute_result"
    }
   ],
   "source": [
    "%display latex\n",
    "\n",
    "x = var('x')\n",
    "y = function('y')(x)\n",
    "de = diff(y,x,2) - y == x\n",
    "desolve(de, y)"
   ]
  },
  {
   "cell_type": "code",
   "execution_count": null,
   "id": "2354e680-cedc-4cdc-97e0-c4abf4fba2fe",
   "metadata": {},
   "outputs": [],
   "source": []
  },
  {
   "cell_type": "code",
   "execution_count": null,
   "id": "537dcbc5-830a-4ef1-8ad8-3f468f6918c4",
   "metadata": {},
   "outputs": [],
   "source": []
  },
  {
   "cell_type": "code",
   "execution_count": null,
   "id": "a5f61ce6-e21b-412e-9ee1-20e061f0aacc",
   "metadata": {},
   "outputs": [],
   "source": []
  },
  {
   "cell_type": "code",
   "execution_count": null,
   "id": "3ea475e8-a6af-407d-941b-d97225176c67",
   "metadata": {},
   "outputs": [],
   "source": []
  },
  {
   "cell_type": "code",
   "execution_count": null,
   "id": "859d3c0d-9c37-43d1-9f7c-eff69fd6a77d",
   "metadata": {},
   "outputs": [],
   "source": []
  },
  {
   "cell_type": "code",
   "execution_count": null,
   "id": "550661f1-7276-4d32-a5c2-e58e42211307",
   "metadata": {},
   "outputs": [],
   "source": []
  },
  {
   "cell_type": "code",
   "execution_count": null,
   "id": "1ef02325-9951-47cf-b824-d44258de81f5",
   "metadata": {},
   "outputs": [],
   "source": []
  },
  {
   "cell_type": "markdown",
   "id": "c434f732-5ee7-4c37-a152-0298247b77d9",
   "metadata": {},
   "source": [
    "Write a formal proof as I illustrated in class for the following statements:\n",
    "        Suppose $A \\subseteq C$, and $B$ and $C$ are disjoint. Prove that if $x \\in A$ then $x \\notin B$."
   ]
  },
  {
   "cell_type": "markdown",
   "id": "380c7fd7-e7ff-4d17-907b-f996247015dd",
   "metadata": {},
   "source": [
    "We know that we need a list of Givens and also Goal\n",
    "\n",
    "### List of Givens \n",
    "* $A \\subseteq C$\n",
    "* $B$ $\\cap C$ = 0\n",
    "\n",
    "### Goal\n",
    "$ x \\in A \\implies x \\notin B$\n",
    "\n",
    "### List of Givens updated by Reduction\n",
    "We get a new list \n",
    "* $A \\subseteq C$\n",
    "* $B$ $\\cap C$ = 0\n",
    "* $x \\in A$\n",
    "* $ \\neg x \\notin B$ = $x \\in B$\n",
    "\n",
    "* ### Goal\n",
    "Contradiction"
   ]
  },
  {
   "cell_type": "code",
   "execution_count": null,
   "id": "e1954480-57a7-4922-b38e-59b5f15643d0",
   "metadata": {},
   "outputs": [],
   "source": []
  },
  {
   "cell_type": "code",
   "execution_count": null,
   "id": "712ba3de-3360-41e8-a9ef-5e442323a069",
   "metadata": {},
   "outputs": [],
   "source": []
  },
  {
   "cell_type": "code",
   "execution_count": null,
   "id": "44438154-43ac-47f9-ace6-20e05c26233e",
   "metadata": {},
   "outputs": [],
   "source": []
  },
  {
   "cell_type": "code",
   "execution_count": 51,
   "id": "3f68315f-7e30-4d9d-ae38-b791a16d897f",
   "metadata": {},
   "outputs": [],
   "source": [
    "a,b = 4,7\n",
    "combinations = []\n",
    "for x in range(20):\n",
    "    for y in range(20):\n",
    "        n = a*x + b*y\n",
    "        combinations.append(n)\n",
    "        "
   ]
  },
  {
   "cell_type": "code",
   "execution_count": 52,
   "id": "a16a7a2d-1fdc-4369-9601-03f8d34269e7",
   "metadata": {},
   "outputs": [],
   "source": [
    "# %%python \n",
    "\n",
    "data = []\n",
    "for i in range(max(combinations)+1):\n",
    "    data.append(i)\n",
    "    "
   ]
  },
  {
   "cell_type": "code",
   "execution_count": 53,
   "id": "c5dc877f-b431-4e5f-8850-cba4699c68e3",
   "metadata": {},
   "outputs": [],
   "source": [
    "data1 = set(data)"
   ]
  },
  {
   "cell_type": "code",
   "execution_count": 54,
   "id": "cde91ff8-99cc-422d-bf94-d94e873a7cb8",
   "metadata": {
    "scrolled": true
   },
   "outputs": [
    {
     "data": {
      "text/plain": [
       "{0,\n",
       " 1,\n",
       " 2,\n",
       " 3,\n",
       " 4,\n",
       " 5,\n",
       " 6,\n",
       " 7,\n",
       " 8,\n",
       " 9,\n",
       " 10,\n",
       " 11,\n",
       " 12,\n",
       " 13,\n",
       " 14,\n",
       " 15,\n",
       " 16,\n",
       " 17,\n",
       " 18,\n",
       " 19,\n",
       " 20,\n",
       " 21,\n",
       " 22,\n",
       " 23,\n",
       " 24,\n",
       " 25,\n",
       " 26,\n",
       " 27,\n",
       " 28,\n",
       " 29,\n",
       " 30,\n",
       " 31,\n",
       " 32,\n",
       " 33,\n",
       " 34,\n",
       " 35,\n",
       " 36,\n",
       " 37,\n",
       " 38,\n",
       " 39,\n",
       " 40,\n",
       " 41,\n",
       " 42,\n",
       " 43,\n",
       " 44,\n",
       " 45,\n",
       " 46,\n",
       " 47,\n",
       " 48,\n",
       " 49,\n",
       " 50,\n",
       " 51,\n",
       " 52,\n",
       " 53,\n",
       " 54,\n",
       " 55,\n",
       " 56,\n",
       " 57,\n",
       " 58,\n",
       " 59,\n",
       " 60,\n",
       " 61,\n",
       " 62,\n",
       " 63,\n",
       " 64,\n",
       " 65,\n",
       " 66,\n",
       " 67,\n",
       " 68,\n",
       " 69,\n",
       " 70,\n",
       " 71,\n",
       " 72,\n",
       " 73,\n",
       " 74,\n",
       " 75,\n",
       " 76,\n",
       " 77,\n",
       " 78,\n",
       " 79,\n",
       " 80,\n",
       " 81,\n",
       " 82,\n",
       " 83,\n",
       " 84,\n",
       " 85,\n",
       " 86,\n",
       " 87,\n",
       " 88,\n",
       " 89,\n",
       " 90,\n",
       " 91,\n",
       " 92,\n",
       " 93,\n",
       " 94,\n",
       " 95,\n",
       " 96,\n",
       " 97,\n",
       " 98,\n",
       " 99,\n",
       " 100,\n",
       " 101,\n",
       " 102,\n",
       " 103,\n",
       " 104,\n",
       " 105,\n",
       " 106,\n",
       " 107,\n",
       " 108,\n",
       " 109,\n",
       " 110,\n",
       " 111,\n",
       " 112,\n",
       " 113,\n",
       " 114,\n",
       " 115,\n",
       " 116,\n",
       " 117,\n",
       " 118,\n",
       " 119,\n",
       " 120,\n",
       " 121,\n",
       " 122,\n",
       " 123,\n",
       " 124,\n",
       " 125,\n",
       " 126,\n",
       " 127,\n",
       " 128,\n",
       " 129,\n",
       " 130,\n",
       " 131,\n",
       " 132,\n",
       " 133,\n",
       " 134,\n",
       " 135,\n",
       " 136,\n",
       " 137,\n",
       " 138,\n",
       " 139,\n",
       " 140,\n",
       " 141,\n",
       " 142,\n",
       " 143,\n",
       " 144,\n",
       " 145,\n",
       " 146,\n",
       " 147,\n",
       " 148,\n",
       " 149,\n",
       " 150,\n",
       " 151,\n",
       " 152,\n",
       " 153,\n",
       " 154,\n",
       " 155,\n",
       " 156,\n",
       " 157,\n",
       " 158,\n",
       " 159,\n",
       " 160,\n",
       " 161,\n",
       " 162,\n",
       " 163,\n",
       " 164,\n",
       " 165,\n",
       " 166,\n",
       " 167,\n",
       " 168,\n",
       " 169,\n",
       " 170,\n",
       " 171,\n",
       " 172,\n",
       " 173,\n",
       " 174,\n",
       " 175,\n",
       " 176,\n",
       " 177,\n",
       " 178,\n",
       " 179,\n",
       " 180,\n",
       " 181,\n",
       " 182,\n",
       " 183,\n",
       " 184,\n",
       " 185,\n",
       " 186,\n",
       " 187,\n",
       " 188,\n",
       " 189,\n",
       " 190,\n",
       " 191,\n",
       " 192,\n",
       " 193,\n",
       " 194,\n",
       " 195,\n",
       " 196,\n",
       " 197,\n",
       " 198,\n",
       " 199,\n",
       " 200,\n",
       " 201,\n",
       " 202,\n",
       " 203,\n",
       " 204,\n",
       " 205,\n",
       " 206,\n",
       " 207,\n",
       " 208,\n",
       " 209}"
      ]
     },
     "execution_count": 54,
     "metadata": {},
     "output_type": "execute_result"
    }
   ],
   "source": [
    "data1"
   ]
  },
  {
   "cell_type": "code",
   "execution_count": 55,
   "id": "76fa4cd5-c13b-44a3-a6b8-7ffea4dc2ef3",
   "metadata": {},
   "outputs": [
    {
     "data": {
      "text/plain": [
       "{0,\n",
       " 4,\n",
       " 7,\n",
       " 8,\n",
       " 11,\n",
       " 12,\n",
       " 14,\n",
       " 15,\n",
       " 16,\n",
       " 18,\n",
       " 19,\n",
       " 20,\n",
       " 21,\n",
       " 22,\n",
       " 23,\n",
       " 24,\n",
       " 25,\n",
       " 26,\n",
       " 27,\n",
       " 28,\n",
       " 29,\n",
       " 30,\n",
       " 31,\n",
       " 32,\n",
       " 33,\n",
       " 34,\n",
       " 35,\n",
       " 36,\n",
       " 37,\n",
       " 38,\n",
       " 39,\n",
       " 40,\n",
       " 41,\n",
       " 42,\n",
       " 43,\n",
       " 44,\n",
       " 45,\n",
       " 46,\n",
       " 47,\n",
       " 48,\n",
       " 49,\n",
       " 50,\n",
       " 51,\n",
       " 52,\n",
       " 53,\n",
       " 54,\n",
       " 55,\n",
       " 56,\n",
       " 57,\n",
       " 58,\n",
       " 59,\n",
       " 60,\n",
       " 61,\n",
       " 62,\n",
       " 63,\n",
       " 64,\n",
       " 65,\n",
       " 66,\n",
       " 67,\n",
       " 68,\n",
       " 69,\n",
       " 70,\n",
       " 71,\n",
       " 72,\n",
       " 73,\n",
       " 74,\n",
       " 75,\n",
       " 76,\n",
       " 77,\n",
       " 78,\n",
       " 79,\n",
       " 80,\n",
       " 81,\n",
       " 82,\n",
       " 83,\n",
       " 84,\n",
       " 85,\n",
       " 86,\n",
       " 87,\n",
       " 88,\n",
       " 89,\n",
       " 90,\n",
       " 91,\n",
       " 92,\n",
       " 93,\n",
       " 94,\n",
       " 95,\n",
       " 96,\n",
       " 97,\n",
       " 98,\n",
       " 99,\n",
       " 100,\n",
       " 101,\n",
       " 102,\n",
       " 103,\n",
       " 104,\n",
       " 105,\n",
       " 106,\n",
       " 107,\n",
       " 108,\n",
       " 109,\n",
       " 110,\n",
       " 111,\n",
       " 112,\n",
       " 113,\n",
       " 114,\n",
       " 115,\n",
       " 116,\n",
       " 117,\n",
       " 118,\n",
       " 119,\n",
       " 120,\n",
       " 121,\n",
       " 122,\n",
       " 123,\n",
       " 124,\n",
       " 125,\n",
       " 126,\n",
       " 127,\n",
       " 128,\n",
       " 129,\n",
       " 130,\n",
       " 131,\n",
       " 132,\n",
       " 133,\n",
       " 134,\n",
       " 135,\n",
       " 136,\n",
       " 137,\n",
       " 138,\n",
       " 139,\n",
       " 140,\n",
       " 141,\n",
       " 142,\n",
       " 143,\n",
       " 144,\n",
       " 145,\n",
       " 146,\n",
       " 147,\n",
       " 148,\n",
       " 149,\n",
       " 150,\n",
       " 151,\n",
       " 152,\n",
       " 153,\n",
       " 154,\n",
       " 155,\n",
       " 156,\n",
       " 157,\n",
       " 158,\n",
       " 159,\n",
       " 160,\n",
       " 161,\n",
       " 162,\n",
       " 163,\n",
       " 164,\n",
       " 165,\n",
       " 166,\n",
       " 167,\n",
       " 168,\n",
       " 169,\n",
       " 170,\n",
       " 171,\n",
       " 172,\n",
       " 173,\n",
       " 174,\n",
       " 175,\n",
       " 176,\n",
       " 177,\n",
       " 178,\n",
       " 179,\n",
       " 180,\n",
       " 181,\n",
       " 182,\n",
       " 183,\n",
       " 184,\n",
       " 185,\n",
       " 186,\n",
       " 187,\n",
       " 188,\n",
       " 189,\n",
       " 190,\n",
       " 191,\n",
       " 193,\n",
       " 194,\n",
       " 195,\n",
       " 197,\n",
       " 198,\n",
       " 201,\n",
       " 202,\n",
       " 205,\n",
       " 209}"
      ]
     },
     "execution_count": 55,
     "metadata": {},
     "output_type": "execute_result"
    }
   ],
   "source": [
    "set(combinations)"
   ]
  },
  {
   "cell_type": "code",
   "execution_count": 2,
   "id": "cb847078-c377-47a6-9f6e-fb1bfc2716bb",
   "metadata": {},
   "outputs": [
    {
     "name": "stdout",
     "output_type": "stream",
     "text": [
      "Linear combinations of a and b: [0, 6, 9, 12, 15, 18, 21, 24, 27, 30, 33, 36, 39, 42, 45, 48, 51, 54, 57, 60, 63, 66, 69, 72, 75, 78, 81, 84, 87, 90, 93, 96, 99, 102, 105, 108, 111, 114, 117, 120, 123, 126, 129, 135]\n",
      "Guessed conductor of a and b: 6\n"
     ]
    }
   ],
   "source": [
    "def conductor_guess(a, b):\n",
    "    # Check if a and b are natural numbers\n",
    "    if a <= 0 or b <= 0:\n",
    "        raise ValueError(\"Both a and b should be natural numbers (positive integers).\")\n",
    "\n",
    "    # List to store the linear combinations of a and b\n",
    "    combinations = []\n",
    "    \n",
    "    # Generate the first few linear combinations of a and b\n",
    "    for k in range(10):\n",
    "        for l in range(10):\n",
    "            combinations.append(k * a + l * b)\n",
    "    \n",
    "    # Remove duplicates and sort the list\n",
    "    combinations = sorted(set(combinations))\n",
    "    \n",
    "    # Guess the conductor based on the smallest non-zero combination\n",
    "    gcd_ab = gcd(a, b)\n",
    "    conductor = min([x for x in combinations if x % gcd_ab == 0 and x != 0])\n",
    "    \n",
    "    return combinations, conductor\n",
    "\n",
    "# Example usage\n",
    "a = 6\n",
    "b = 9\n",
    "combinations, conductor = conductor_guess(a, b)\n",
    "print(\"Linear combinations of a and b:\", combinations)\n",
    "print(\"Guessed conductor of a and b:\", conductor)"
   ]
  },
  {
   "cell_type": "code",
   "execution_count": 3,
   "id": "85cdfcbc-457a-4e35-9f01-51905f44fac5",
   "metadata": {},
   "outputs": [
    {
     "data": {
      "image/png": "[encoded data removed]",
      "text/plain": [
       "Graphics object consisting of 1 graphics primitive"
      ]
     },
     "metadata": {},
     "output_type": "display_data"
    }
   ],
   "source": [
    "# Example plot\n",
    "p = plot(x, (x, 0, 3), ticks=[[1, 2.5], [0.5, 1, 2]], tick_formatter=[[\"$x_1$\", \"$x_2$\"], [\"$y_1$\", \"$y_2$\", \"$y_3$\"]])\n",
    "p.show()\n"
   ]
  },
  {
   "cell_type": "code",
   "execution_count": 56,
   "id": "d041653a-bad7-455c-944e-b343f2db8e92",
   "metadata": {},
   "outputs": [
    {
     "data": {
      "text/plain": [
       "{1, 2, 3, 5, 6, 9, 10, 13, 17, 192, 196, 199, 200, 203, 204, 206, 207, 208}"
      ]
     },
     "execution_count": 56,
     "metadata": {},
     "output_type": "execute_result"
    }
   ],
   "source": [
    "data1.difference(combinations)"
   ]
  },
  {
   "cell_type": "code",
   "execution_count": null,
   "id": "13519c29-5a1e-4557-a9b5-1eb5adcf1e33",
   "metadata": {},
   "outputs": [],
   "source": []
  },
  {
   "cell_type": "code",
   "execution_count": 8,
   "id": "99e3c7b0-3f5b-449d-bbb0-d8156982f99b",
   "metadata": {},
   "outputs": [
    {
     "name": "stdout",
     "output_type": "stream",
     "text": [
      "Hello world\n",
      "Hello world\n",
      "Hello world\n",
      "Hello world\n",
      "Hello world\n",
      "Hello world\n",
      "Hello world\n",
      "Hello world\n",
      "Hello world\n",
      "Hello world\n",
      "Hello world\n"
     ]
    }
   ],
   "source": [
    "for i in range(11):\n",
    "    print(\"Hello world\")"
   ]
  },
  {
   "cell_type": "code",
   "execution_count": 7,
   "id": "9ba4a045-56f7-48d7-924e-da88e1ecaf73",
   "metadata": {},
   "outputs": [
    {
     "name": "stdout",
     "output_type": "stream",
     "text": [
      "hellohellohellohellohellohellohellohellohellohello\n"
     ]
    }
   ],
   "source": [
    "print(x)"
   ]
  },
  {
   "cell_type": "code",
   "execution_count": 1,
   "id": "b778fe02-31c2-48b2-b5ec-f662352d26c8",
   "metadata": {},
   "outputs": [
    {
     "name": "stdout",
     "output_type": "stream",
     "text": [
      "           n     Number of Primes             n/log(n)\n",
      "====================================================\n"
     ]
    },
    {
     "ename": "TypeError",
     "evalue": "unsupported format string passed to Integer.__format__",
     "output_type": "error",
     "traceback": [
      "\u001b[0;31m---------------------------------------------------------------------------\u001b[0m",
      "\u001b[0;31mTypeError\u001b[0m                                 Traceback (most recent call last)",
      "Cell \u001b[0;32mIn[1], line 20\u001b[0m\n\u001b[1;32m     18\u001b[0m \u001b[38;5;28mprint\u001b[39m(\u001b[38;5;124m\"\u001b[39m\u001b[38;5;124m=\u001b[39m\u001b[38;5;124m\"\u001b[39m \u001b[38;5;241m*\u001b[39m Integer(\u001b[38;5;241m52\u001b[39m))\n\u001b[1;32m     19\u001b[0m \u001b[38;5;28;01mfor\u001b[39;00m i \u001b[38;5;129;01min\u001b[39;00m \u001b[38;5;28mrange\u001b[39m(\u001b[38;5;28mlen\u001b[39m(values_of_n)):\n\u001b[0;32m---> 20\u001b[0m     \u001b[38;5;28mprint\u001b[39m(\u001b[38;5;124mf\u001b[39m\u001b[38;5;124m\"\u001b[39m\u001b[38;5;132;01m{\u001b[39;00mvalues_of_n[i]\u001b[38;5;132;01m:\u001b[39;00m\u001b[38;5;124m>12\u001b[39m\u001b[38;5;132;01m}\u001b[39;00m\u001b[38;5;124m \u001b[39m\u001b[38;5;132;01m{\u001b[39;00mnum_primes[i]\u001b[38;5;132;01m:\u001b[39;00m\u001b[38;5;124m>20\u001b[39m\u001b[38;5;132;01m}\u001b[39;00m\u001b[38;5;124m \u001b[39m\u001b[38;5;132;01m{\u001b[39;00mapprox_primes[i]\u001b[38;5;132;01m:\u001b[39;00m\u001b[38;5;124m>20.2f\u001b[39m\u001b[38;5;132;01m}\u001b[39;00m\u001b[38;5;124m\"\u001b[39m)\n",
      "File \u001b[0;32m/srv/sage-10.4/local/var/lib/sage/venv-python3.11/lib/python3.11/site-packages/sympy/core/expr.py:394\u001b[0m, in \u001b[0;36mExpr.__format__\u001b[0;34m(self, format_spec)\u001b[0m\n\u001b[1;32m    392\u001b[0m         \u001b[38;5;28;01mif\u001b[39;00m rounded\u001b[38;5;241m.\u001b[39mis_Float:\n\u001b[1;32m    393\u001b[0m             \u001b[38;5;28;01mreturn\u001b[39;00m \u001b[38;5;28mformat\u001b[39m(rounded, format_spec)\n\u001b[0;32m--> 394\u001b[0m \u001b[38;5;28;01mreturn\u001b[39;00m \u001b[38;5;28;43msuper\u001b[39;49m\u001b[43m(\u001b[49m\u001b[43m)\u001b[49m\u001b[38;5;241;43m.\u001b[39;49m\u001b[38;5;21;43m__format__\u001b[39;49m\u001b[43m(\u001b[49m\u001b[43mformat_spec\u001b[49m\u001b[43m)\u001b[49m\n",
      "\u001b[0;31mTypeError\u001b[0m: unsupported format string passed to Integer.__format__"
     ]
    }
   ],
   "source": [
    "import math\n",
    "import sympy\n",
    "\n",
    "# Define the values of n\n",
    "\n",
    "\n",
    "# Create lists to store results\n",
    "num_primes = []\n",
    "approx_primes = []\n",
    "\n",
    "# Calculate the number of primes and the approximation for each n\n",
    "for n in values_of_n:\n",
    "    num_primes.append(sympy.primepi(n))\n",
    "    approx_primes.append(n / math.log(n))\n",
    "\n",
    "# Print the results in a formatted table\n",
    "print(f\"{'n':>12} {'Number of Primes':>20} {'n/log(n)':>20}\")\n",
    "print(\"=\" * 52)\n",
    "for i in range(len(values_of_n)):\n",
    "    print(f\"{values_of_n[i]:>12} {num_primes[i]:>20} {approx_primes[i]:>20.2f}\")\n"
   ]
  },
  {
   "cell_type": "code",
   "execution_count": null,
   "id": "e424e529-4016-4b25-851a-9dc671f927fa",
   "metadata": {},
   "outputs": [],
   "source": []
  }
 ],
 "metadata": {
  "kernelspec": {
   "display_name": "SageMath 10.4",
   "language": "sage",
   "name": "sagemath"
  },
  "language_info": {
   "codemirror_mode": {
    "name": "ipython",
    "version": 3
   },
   "file_extension": ".py",
   "mimetype": "text/x-python",
   "name": "python",
   "nbconvert_exporter": "python",
   "pygments_lexer": "ipython3",
   "version": "3.11.2"
  }
 },
 "nbformat": 4,
 "nbformat_minor": 5
}
